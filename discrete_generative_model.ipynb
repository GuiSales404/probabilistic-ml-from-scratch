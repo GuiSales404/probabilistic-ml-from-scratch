{
  "cells": [
    {
      "cell_type": "markdown",
      "source": [
        "##Importing Libs and DS"
      ],
      "metadata": {
        "id": "Y8gfFy5Rousf"
      },
      "id": "Y8gfFy5Rousf"
    },
    {
      "cell_type": "code",
      "execution_count": null,
      "id": "c6f584b0-6d73-4b49-b2d4-0f817049ee43",
      "metadata": {
        "id": "c6f584b0-6d73-4b49-b2d4-0f817049ee43"
      },
      "outputs": [],
      "source": [
        "import numpy as np\n",
        "import matplotlib.pyplot as plt\n",
        "import math\n",
        "import seaborn as sns"
      ]
    },
    {
      "cell_type": "code",
      "execution_count": null,
      "id": "aad9b2f3-0cb3-4110-8e5d-5964debcc1a8",
      "metadata": {
        "id": "aad9b2f3-0cb3-4110-8e5d-5964debcc1a8"
      },
      "outputs": [],
      "source": [
        "logistic = np.genfromtxt(\"logistic_regression_data.csv\", delimiter = ',')"
      ]
    },
    {
      "cell_type": "markdown",
      "id": "f9395bf5-2a6b-453c-ab0e-8a260af78f19",
      "metadata": {
        "id": "f9395bf5-2a6b-453c-ab0e-8a260af78f19"
      },
      "source": [
        "## Funcs"
      ]
    },
    {
      "cell_type": "code",
      "execution_count": null,
      "id": "9e7f7af8-8921-4f96-861f-9304bdde2898",
      "metadata": {
        "id": "9e7f7af8-8921-4f96-861f-9304bdde2898"
      },
      "outputs": [],
      "source": [
        "def sigmoid(v):\n",
        "    return (1 / (1 + np.exp(-v)))"
      ]
    },
    {
      "cell_type": "code",
      "execution_count": null,
      "id": "478b65bb-43d1-4512-9f33-987e48092c86",
      "metadata": {
        "id": "478b65bb-43d1-4512-9f33-987e48092c86"
      },
      "outputs": [],
      "source": [
        "def NormalizeZScore(dataset: np.ndarray, ones: bool = True):\n",
        "    dataX = dataset[:, :-1]\n",
        "    Xmean = np.mean(dataX, axis = 0)\n",
        "    Xstd = np.std(dataX, axis = 0)\n",
        "    dataX = (dataX - Xmean)/Xstd\n",
        "    if ones:\n",
        "        dataX = np.c_[np.ones((dataX.shape[0])), dataX]\n",
        "    dataY = dataset[:, -1]\n",
        "    return dataX, Xmean, Xstd, dataY"
      ]
    },
    {
      "cell_type": "code",
      "execution_count": null,
      "id": "d93d9177-a4d4-4947-8aa2-74e5de0baae7",
      "metadata": {
        "id": "d93d9177-a4d4-4947-8aa2-74e5de0baae7"
      },
      "outputs": [],
      "source": [
        "def NormalizePoint(p, mean, std):\n",
        "    return (p-mean)/std\n",
        "def DenormalizePoint(p, mean, std):\n",
        "    return (p*std) + mean"
      ]
    },
    {
      "cell_type": "code",
      "execution_count": null,
      "id": "258219cb-c128-4a13-b42e-fca1070ced9e",
      "metadata": {
        "id": "258219cb-c128-4a13-b42e-fca1070ced9e"
      },
      "outputs": [],
      "source": [
        "def IRLS_MAP(Xn: np.ndarray, Y: np.ndarray):\n",
        "    m0 = np.zeros(Xn.shape[1])\n",
        "    S0 = np.eye(Xn.shape[1])\n",
        "    w = np.zeros(Xn.shape[1])\n",
        "    for i in range(20):\n",
        "        p = Xn @ w\n",
        "        R = sigmoid(p) * (1 - sigmoid(p))\n",
        "        R = R * np.eye(R.shape[0])\n",
        "        A = (Xn.T @ R @ Xn) + np.linalg.inv(S0)\n",
        "        w = w + np.linalg.inv(A)@(Xn.T@(Y - sigmoid(Xn @ w)) - (np.linalg.inv(S0)@(w - m0)))\n",
        "    return w, R"
      ]
    },
    {
      "cell_type": "code",
      "execution_count": null,
      "id": "6f5d2aa5-1887-45d6-8ccf-63ec89fd1516",
      "metadata": {
        "id": "6f5d2aa5-1887-45d6-8ccf-63ec89fd1516"
      },
      "outputs": [],
      "source": [
        "def BLogR(Xn: np.ndarray, Y: np.ndarray):\n",
        "    w, R = IRLS_MAP(Xn, Y)\n",
        "    H = Xn.T @ R @ Xn + np.linalg.inv(np.eye(Xn.shape[1]))\n",
        "    return w, np.linalg.inv(H)"
      ]
    },
    {
      "cell_type": "markdown",
      "source": [
        "## Questão 1"
      ],
      "metadata": {
        "id": "rbBYTTVhpCcm"
      },
      "id": "rbBYTTVhpCcm"
    },
    {
      "cell_type": "code",
      "execution_count": null,
      "metadata": {
        "id": "9f6f13a9-5b0a-4862-a4ee-4c8848f16c30"
      },
      "outputs": [],
      "source": [
        "dataset_X, x_mean, x_std, dataset_Y = NormalizeZScore(logistic)"
      ],
      "id": "9f6f13a9-5b0a-4862-a4ee-4c8848f16c30"
    },
    {
      "cell_type": "code",
      "execution_count": null,
      "id": "71014380-3235-462d-9a50-00152527b55a",
      "metadata": {
        "id": "71014380-3235-462d-9a50-00152527b55a"
      },
      "outputs": [],
      "source": [
        "logu, logstd = BLogR(dataset_X, dataset_Y)"
      ]
    },
    {
      "cell_type": "code",
      "execution_count": null,
      "id": "d83a99de-1d48-47a2-9867-c2f899827c97",
      "metadata": {
        "id": "d83a99de-1d48-47a2-9867-c2f899827c97"
      },
      "outputs": [],
      "source": [
        "x1, x2 = np.mgrid[slice(np.min(logistic[:,0]) - 0.5, np.max(logistic[:, 0]) + 0.5, 0.01),\n",
        "                  slice(np.min(logistic[:,1]) - 0.5, np.max(logistic[:, 1]) + 0.5, 0.01)]\n",
        "x_plot = np.dstack((x1, x2))\n",
        "x_plot_n = np.apply_along_axis(func1d = NormalizePoint, arr = x_plot, axis = 2, mean = x_mean, std = x_std)\n",
        "x_plot_n = np.dstack((np.ones(x1.shape), x_plot_n))\n",
        "values = np.apply_along_axis(func1d = (lambda x: (np.sqrt(1 + (np.pi*((x.T@logstd@x)**2)/8))*(logu.T@x))), arr = x_plot_n, axis = 2)"
      ]
    },
    {
      "cell_type": "code",
      "execution_count": null,
      "id": "3fdc3871-1df3-4366-979e-4c4ed552334e",
      "metadata": {
        "id": "3fdc3871-1df3-4366-979e-4c4ed552334e",
        "outputId": "16b733b2-a09d-43d2-ee87-b19eadba0122",
        "colab": {
          "base_uri": "https://localhost:8080/",
          "height": 265
        }
      },
      "outputs": [
        {
          "output_type": "display_data",
          "data": {
            "text/plain": [
              "<Figure size 432x288 with 1 Axes>"
            ],
            "image/png": "[encoded data removed]"
          },
          "metadata": {
            "needs_background": "light"
          }
        }
      ],
      "source": [
        "x, y = logistic[:, [0,1]], logistic[:, -1]\n",
        "back = plt.pcolormesh(x1, x2, values, cmap = 'Greens', vmin = 0, vmax = 1)\n",
        "scatter = plt.scatter(x = x[:, 0], y = x[:, 1], c = y)\n",
        "plt.show()"
      ]
    },
    {
      "cell_type": "markdown",
      "id": "eb1dbbf1-8ac9-40fa-b850-ba37694df5e0",
      "metadata": {
        "id": "eb1dbbf1-8ac9-40fa-b850-ba37694df5e0"
      },
      "source": [
        "##Questão 2"
      ]
    },
    {
      "cell_type": "code",
      "execution_count": null,
      "id": "eb572a0f-94b1-444a-9ccd-edb5a0eee350",
      "metadata": {
        "id": "eb572a0f-94b1-444a-9ccd-edb5a0eee350"
      },
      "outputs": [],
      "source": [
        "votes = np.genfromtxt('votesDataset.csv', dtype = str, delimiter = ',', skip_header = 1)"
      ]
    },
    {
      "cell_type": "code",
      "source": [
        "target = votes[:, 0]\n",
        "features = votes[:, 1:]\n",
        "target = target == 'democrat'\n",
        "target = target.astype('int')\n",
        "features = features.astype('int')"
      ],
      "metadata": {
        "id": "QCXW2AbXrdJX"
      },
      "id": "QCXW2AbXrdJX",
      "execution_count": null,
      "outputs": []
    },
    {
      "cell_type": "code",
      "source": [
        "dir = np.ones(2)\n",
        "betas = np.ones((2, features.shape[1], 2))"
      ],
      "metadata": {
        "id": "h--nj2kW5wur"
      },
      "id": "h--nj2kW5wur",
      "execution_count": null,
      "outputs": []
    },
    {
      "cell_type": "code",
      "source": [
        "pi_ = np.zeros(2)\n",
        "pi_[0] = (dir[0] + np.sum(target == 0))/(target.shape[0] + np.sum(dir))\n",
        "pi_[1] = (dir[1] + np.sum(target == 1))/(target.shape[0] + np.sum(dir))"
      ],
      "metadata": {
        "id": "z-LlLy20HRBh"
      },
      "id": "z-LlLy20HRBh",
      "execution_count": null,
      "outputs": []
    },
    {
      "cell_type": "code",
      "source": [
        "theta_ = np.zeros((2, features.shape[1]))\n",
        "c0 = features[target == 0]\n",
        "c1 = features[target == 1]\n",
        "for i in range(features.shape[1]):\n",
        "  theta_[0, i] = (np.sum(c0[:, i] == 1) + betas[0, i, 1])/(c0.shape[0] + np.sum(betas[0, i]))\n",
        "  theta_[1, i] = (np.sum(c1[:, i] == 1) + betas[1, i, 1])/(c1.shape[0] + np.sum(betas[1, i]))"
      ],
      "metadata": {
        "id": "NNsHdD82MD1A"
      },
      "id": "NNsHdD82MD1A",
      "execution_count": null,
      "outputs": []
    },
    {
      "cell_type": "code",
      "source": [
        "p1 = np.apply_along_axis(func1d = lambda x: pi_[1] * np.prod(((theta_[1])**((x==1).astype('int')))*((1 - theta_[1])**((x==0).astype('int')))), arr = features, axis = 1)\n",
        "p0 = np.apply_along_axis(func1d = lambda x: pi_[0] * np.prod(((theta_[0])**((x==1).astype('int')))*((1 - theta_[0])**((x==0).astype('int')))), arr = features, axis = 1)\n",
        "prediction = (p1 > p0).astype('int')"
      ],
      "metadata": {
        "id": "Tj88KA-TQX3u"
      },
      "id": "Tj88KA-TQX3u",
      "execution_count": null,
      "outputs": []
    },
    {
      "cell_type": "code",
      "source": [
        "p_t = np.c_[prediction, target]"
      ],
      "metadata": {
        "id": "W70d5ozZXnbk"
      },
      "id": "W70d5ozZXnbk",
      "execution_count": null,
      "outputs": []
    },
    {
      "cell_type": "code",
      "source": [
        "tp = np.sum(p_t[p_t[:, 1] == 1, 0] == 1)\n",
        "tn = np.sum(p_t[p_t[:, 1] == 0, 0] == 0)\n",
        "fp = np.sum(p_t[p_t[:, 1] == 0, 0] == 1)\n",
        "fn = np.sum(p_t[p_t[:, 1] == 1, 0] == 0)"
      ],
      "metadata": {
        "id": "1_fAgwqJXYEN"
      },
      "id": "1_fAgwqJXYEN",
      "execution_count": null,
      "outputs": []
    },
    {
      "cell_type": "code",
      "source": [
        "print(\"Usando democrata como valor 1 - positivo e republicano como 0 - negativo:\")\n",
        "print(f\"True Positive: {tp}\")\n",
        "print(f\"True Negative: {tn}\")\n",
        "print(f\"False Positive: {fp}\")\n",
        "print(f\"False Negative: {fn}\")"
      ],
      "metadata": {
        "colab": {
          "base_uri": "https://localhost:8080/"
        },
        "id": "JnNafN-wb_pc",
        "outputId": "b9eb0a0e-d2f6-4531-ec87-3616d68a4bbe"
      },
      "id": "JnNafN-wb_pc",
      "execution_count": null,
      "outputs": [
        {
          "output_type": "stream",
          "name": "stdout",
          "text": [
            "Usando democrata como valor 1 - positivo e republicano como 0 - negativo:\n",
            "True Positive: 239\n",
            "True Negative: 148\n",
            "False Positive: 20\n",
            "False Negative: 28\n"
          ]
        }
      ]
    },
    {
      "cell_type": "code",
      "source": [
        "cf = np.array([[tn, fp], [fn, tp]])\n",
        "plot = sns.heatmap(cf, annot = True, cmap = 'Purples', fmt = 'g')\n",
        "plot.set_xlabel(\"\\nValor Predito\")\n",
        "plot.set_ylabel(\"Valor Real\")\n",
        "plot.set_title(\"Matriz de Confusão: Democrata = 1; Republicano = 0\")\n",
        "plt.show()"
      ],
      "metadata": {
        "colab": {
          "base_uri": "https://localhost:8080/",
          "height": 307
        },
        "id": "ETez1BkieJ3T",
        "outputId": "ca028d85-12c1-4cc3-e947-f01da35100bd"
      },
      "id": "ETez1BkieJ3T",
      "execution_count": null,
      "outputs": [
        {
          "output_type": "display_data",
          "data": {
            "text/plain": [
              "<Figure size 432x288 with 2 Axes>"
            ],
            "image/png": "[encoded data removed]"
          },
          "metadata": {
            "needs_background": "light"
          }
        }
      ]
    }
  ],
  "metadata": {
    "kernelspec": {
      "display_name": "Python 3 (ipykernel)",
      "language": "python",
      "name": "python3"
    },
    "language_info": {
      "codemirror_mode": {
        "name": "ipython",
        "version": 3
      },
      "file_extension": ".py",
      "mimetype": "text/x-python",
      "name": "python",
      "nbconvert_exporter": "python",
      "pygments_lexer": "ipython3",
      "version": "3.10.4"
    },
    "colab": {
      "provenance": []
    }
  },
  "nbformat": 4,
  "nbformat_minor": 5
}