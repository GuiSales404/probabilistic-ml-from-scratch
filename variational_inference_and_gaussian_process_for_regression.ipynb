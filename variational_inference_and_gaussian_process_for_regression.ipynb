{
  "nbformat": 4,
  "nbformat_minor": 0,
  "metadata": {
    "colab": {
      "provenance": []
    },
    "kernelspec": {
      "name": "python3",
      "display_name": "Python 3"
    },
    "language_info": {
      "name": "python"
    }
  },
  "cells": [
    {
      "cell_type": "markdown",
      "source": [
        "#Imports and Reading Data"
      ],
      "metadata": {
        "id": "fnLMBKAAya3R"
      }
    },
    {
      "cell_type": "code",
      "execution_count": 1,
      "metadata": {
        "id": "HnDA9MS1R0zk"
      },
      "outputs": [],
      "source": [
        "import numpy as np\n",
        "from matplotlib import pyplot as plt"
      ]
    },
    {
      "cell_type": "code",
      "source": [
        "with open('gp_data_train.csv', 'r', encoding = 'utf-8') as f:\n",
        "    train = np.genfromtxt(f, dtype = float, delimiter = ',')\n",
        "with open('gp_data_test.csv', 'r', encoding = 'utf-8') as f:\n",
        "    test = np.genfromtxt(f, dtype = float, delimiter = ',')"
      ],
      "metadata": {
        "id": "GZuk88QEVDDH"
      },
      "execution_count": 2,
      "outputs": []
    },
    {
      "cell_type": "markdown",
      "source": [
        "# Funcs"
      ],
      "metadata": {
        "id": "uNDTxQ_syiGO"
      }
    },
    {
      "cell_type": "code",
      "source": [
        "def NormalizeZScore(dataset: np.ndarray):\n",
        "    dataX = dataset[:, :-1]\n",
        "    Xmean = np.mean(dataX, axis = 0)\n",
        "    Xstd = np.std(dataX, axis = 0)\n",
        "    dataX = (dataX - Xmean)/Xstd\n",
        "    dataY = dataset[:, -1]\n",
        "    Ymean = np.mean(dataY, axis = 0, keepdims = True)\n",
        "    Ystd = np.std(dataY, axis = 0, keepdims = True)\n",
        "    dataY = (dataY - Ymean)/Ystd\n",
        "    return dataX, Xmean, Xstd, dataY, Ymean, Ystd\n",
        "\n",
        "def NormalizePoint(p, mean, std):\n",
        "    return (p-mean)/std\n",
        "def DenormalizePoint(p, mean, std):\n",
        "    return (p*std) + mean"
      ],
      "metadata": {
        "id": "rV4QCpABgn9L"
      },
      "execution_count": 3,
      "outputs": []
    },
    {
      "cell_type": "code",
      "source": [
        "def RBF(x1: np.ndarray, x2: np.ndarray, varf: float, w2: np.ndarray):\n",
        "  if x1.ndim == 1:\n",
        "    x1 = x1[:, None]\n",
        "  return varf * np.exp((-1/2) * (np.sum(w2 * ((x1-x2) ** 2), axis = 1)))"
      ],
      "metadata": {
        "id": "bWEhMpOjnNRr"
      },
      "execution_count": 4,
      "outputs": []
    },
    {
      "cell_type": "code",
      "source": [
        "def GP(X: np.ndarray, Y: np.ndarray):\n",
        "  N = X.shape[0]\n",
        "  varf = np.var(Y)\n",
        "  vary = 0.01*varf\n",
        "  w2 = np.apply_along_axis(lambda x: 1/(np.var(x)), arr = X, axis = 0)\n",
        "  K = np.zeros((N,N))\n",
        "  for i in range(N):\n",
        "    for j in range(N):\n",
        "      K[i, j] = RBF(X[i], X[j], varf, w2)\n",
        "  return varf, vary, w2, K"
      ],
      "metadata": {
        "id": "P3GhOiHYfXt0"
      },
      "execution_count": 5,
      "outputs": []
    },
    {
      "cell_type": "code",
      "source": [
        "def PredGP(xpred: np.ndarray, X: np.ndarray, Y: np.ndarray, varf: float, vary: float, w2: np.ndarray, K: np.ndarray):\n",
        "  kf = np.apply_along_axis(RBF, arr = xpred, axis = 1, x2 = X, varf = varf, w2 = w2)\n",
        "  N = X.shape[0]\n",
        "  aux = kf @ np.linalg.inv(K + (vary * np.eye(N)))\n",
        "  mean = aux @ Y\n",
        "  var = RBF(xpred, xpred, varf, w2) - np.diag(aux @ kf.reshape((N, -1)))\n",
        "  return mean, var"
      ],
      "metadata": {
        "id": "-P7KRjBptGdp"
      },
      "execution_count": 6,
      "outputs": []
    },
    {
      "cell_type": "markdown",
      "source": [
        "# Running"
      ],
      "metadata": {
        "id": "a7aVYG65zC6V"
      }
    },
    {
      "cell_type": "markdown",
      "source": [
        "## Normalizing/Split"
      ],
      "metadata": {
        "id": "gcub6W9bypKP"
      }
    },
    {
      "cell_type": "code",
      "source": [
        "trainXN, Xmean, Xstd, trainYN, Ymean, Ystd = NormalizeZScore(train)"
      ],
      "metadata": {
        "id": "9ka4jK2qrCLq"
      },
      "execution_count": 7,
      "outputs": []
    },
    {
      "cell_type": "markdown",
      "source": [
        "## Train/Eval"
      ],
      "metadata": {
        "id": "eA_la0MLy1yo"
      }
    },
    {
      "cell_type": "code",
      "source": [
        "varf, vary, w2, K = GP(trainXN, trainYN)"
      ],
      "metadata": {
        "id": "77Z6OaGJmEDD"
      },
      "execution_count": 8,
      "outputs": []
    },
    {
      "cell_type": "code",
      "source": [
        "trainPredN_mean, trainPredN_var = PredGP(trainXN, trainXN, trainYN, varf, vary, w2, K)\n",
        "trainPredN_std = np.sqrt(trainPredN_var)\n",
        "trainPred_mean = DenormalizePoint(trainPredN_mean, Ymean, Ystd)\n",
        "trainPred_std = DenormalizePoint(trainPredN_std, Ymean, Ystd)\n",
        "trainPred_var = trainPred_std ** 2"
      ],
      "metadata": {
        "id": "l2KpLHQSa8zn"
      },
      "execution_count": 9,
      "outputs": []
    },
    {
      "cell_type": "code",
      "source": [
        "trainY = train[:, -1]\n",
        "RMSE = np.sqrt(np.mean((trainPred_mean - trainY)**2))\n",
        "NLPD = ((1/2)*np.log(2*np.pi)) + ((1/(2*trainY.shape[0])) * np.sum(np.log(trainPred_var) + (((trainY - trainPred_mean)**2)/trainPred_var)))\n",
        "print(f\"Treino: \\nRMSE: {RMSE} \\nNLPD: {NLPD}\")"
      ],
      "metadata": {
        "colab": {
          "base_uri": "https://localhost:8080/"
        },
        "id": "UbAd1RpGbeIP",
        "outputId": "fb167d0c-f35d-4db8-a779-9d15caf393f7"
      },
      "execution_count": 10,
      "outputs": [
        {
          "output_type": "stream",
          "name": "stdout",
          "text": [
            "Treino: \n",
            "RMSE: 0.2296261184903573 \n",
            "NLPD: 3.792453617668738\n"
          ]
        }
      ]
    },
    {
      "cell_type": "code",
      "source": [
        "testX = test[:, :-1]\n",
        "testY = test[:, -1]\n",
        "testXN = NormalizePoint(testX, Xmean, Xstd)\n",
        "testPredN_mean, testPredN_var = PredGP(testXN, trainXN, trainYN, varf, vary, w2, K)\n",
        "testPredN_std = np.sqrt(testPredN_var)\n",
        "testPred_mean = DenormalizePoint(testPredN_mean, Ymean, Ystd)\n",
        "testPred_std = DenormalizePoint(testPredN_std, Ymean, Ystd)\n",
        "testPred_var = testPred_std ** 2"
      ],
      "metadata": {
        "id": "3n_DRV7tswbp"
      },
      "execution_count": 11,
      "outputs": []
    },
    {
      "cell_type": "code",
      "source": [
        "RMSE = np.sqrt(np.mean((testPred_mean - testY)**2))\n",
        "NLPD = (1/2)*np.log(2*np.pi) + ((1/(2*testY.shape[0])) * np.sum(np.log(testPred_var) + (((testY - testPred_mean)**2)/testPred_var)))\n",
        "print(f\"Teste: \\nRMSE: {RMSE} \\nNLPD: {NLPD}\")"
      ],
      "metadata": {
        "colab": {
          "base_uri": "https://localhost:8080/"
        },
        "id": "JNV6iBh5OYlu",
        "outputId": "a6580294-c741-428b-e385-278609fa61a6"
      },
      "execution_count": 12,
      "outputs": [
        {
          "output_type": "stream",
          "name": "stdout",
          "text": [
            "Teste: \n",
            "RMSE: 0.22912156316743065 \n",
            "NLPD: 0.11382384955088531\n"
          ]
        }
      ]
    },
    {
      "cell_type": "markdown",
      "source": [
        "##Plot"
      ],
      "metadata": {
        "id": "uvN4g1Pby4nx"
      }
    },
    {
      "cell_type": "code",
      "source": [
        "x_plot = np.linspace(-1, 1, 100)\n",
        "x_plot_n = NormalizePoint(x_plot, Xmean, Xstd).reshape((-1, 1))\n",
        "y_plot_n_mean, y_plot_n_var = PredGP(x_plot_n, trainXN, trainYN, varf, vary, w2, K)\n",
        "y_plot_mean = DenormalizePoint(y_plot_n_mean, Ymean, Ystd)\n",
        "y_plot_std = DenormalizePoint(np.sqrt(y_plot_n_var), Ymean, Ystd)\n",
        "plt.plot(x_plot, y_plot_mean)\n",
        "plt.plot(x_plot, y_plot_mean + (2*y_plot_std))\n",
        "plt.plot(x_plot, y_plot_mean - (2*y_plot_std))\n",
        "plt.show()"
      ],
      "metadata": {
        "colab": {
          "base_uri": "https://localhost:8080/",
          "height": 430
        },
        "id": "BIfaFuSMRPqG",
        "outputId": "61864967-3f72-4d5d-b30f-4577c1c16abc"
      },
      "execution_count": 13,
      "outputs": [
        {
          "output_type": "display_data",
          "data": {
            "text/plain": [
              "<Figure size 640x480 with 1 Axes>"
            ],
            "image/png": "[encoded data removed]"
          },
          "metadata": {}
        }
      ]
    }
  ]
}